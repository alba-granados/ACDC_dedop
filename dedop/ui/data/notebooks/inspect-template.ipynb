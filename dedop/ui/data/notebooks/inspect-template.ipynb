{
 "cells": [
  {
   "cell_type": "markdown",
   "metadata": {},
   "source": [
    "# DeDop L1B Inspection\n",
    "\n",
    "Use the following plot methods for displaying scaled waveform data:\n",
    "* `insp.plot.waveform_3d_surf()` - to draw a waveform 3D surface plot\n",
    "* `insp.plot.waveform_3d_line()` - to draw a waveform 3D line plot\n",
    "* `insp.plot.waveform_3d_poly()` - to draw a waveform 3D polygon plot\n",
    "* `insp.plot.waveform_im()` - to draw a waveform image\n",
    "* `insp.plot.waveform_line()` - to draw a waveform 2D line plot\n",
    "* `insp.plot.waveform_hist()` to draw a waveform histogram\n",
    "* `insp.plot.locations()` - to draw the footprints of the L1B product on a map\n",
    "\n",
    "Use the following generic methods for displaying any other variables:\n",
    "* `insp.plot.line(x, y)` - to draw two 1D variables (line plots)\n",
    "* `insp.plot.im_line(z)` - to draw a 2D variable (images + and line plots)\n",
    "* `insp.plot.im(z)` - to draw a 2D variable (images)\n",
    "\n",
    "Usage hints:\n",
    "* In menu **Cell** select **Run All** to run all notebook *cells*\n",
    "* Place cursor over a any field or function in a cell and press **SHIFT** + **TAB** to display help on\n",
    "  that element.\n",
    "* Type `comp.` or `comp.plot.` then press **TAB** key to get a list of available\n",
    "  elements of the `comp` and `comp.plot` objects for auto-completion.\n",
    "* Some functions have a `color` argument. Please refer to the \n",
    "  [Matplotlib Colors API](http://matplotlib.org/api/colors_api.html) to learn how colors can be specified.\n",
    "* Some functions have a `cmap` argument, which names a colour map. Please refer to the\n",
    "  [Matplotlib Colormaps Reference](http://matplotlib.org/examples/color/colormaps_reference.html) \n",
    "  for possible names.\n"
   ]
  },
  {
   "cell_type": "code",
   "execution_count": null,
   "metadata": {
    "collapsed": false
   },
   "outputs": [],
   "source": [
    "from dedop.ui.inspect import inspect_l1b_product\n",
    "%matplotlib inline"
   ]
  },
  {
   "cell_type": "code",
   "execution_count": null,
   "metadata": {
    "collapsed": false
   },
   "outputs": [],
   "source": [
    "insp = inspect_l1b_product(__L1B_FILE_PATH__)"
   ]
  },
  {
   "cell_type": "code",
   "execution_count": null,
   "metadata": {
    "collapsed": false
   },
   "outputs": [],
   "source": [
    "insp.lon_range"
   ]
  },
  {
   "cell_type": "code",
   "execution_count": null,
   "metadata": {
    "collapsed": false
   },
   "outputs": [],
   "source": [
    "insp.lat_range"
   ]
  },
  {
   "cell_type": "code",
   "execution_count": null,
   "metadata": {
    "collapsed": false
   },
   "outputs": [],
   "source": [
    "insp.plot.locations()"
   ]
  },
  {
   "cell_type": "code",
   "execution_count": null,
   "metadata": {
    "collapsed": false
   },
   "outputs": [],
   "source": [
    "insp.waveform_range"
   ]
  },
  {
   "cell_type": "code",
   "execution_count": null,
   "metadata": {
    "collapsed": false
   },
   "outputs": [],
   "source": [
    "insp.waveform"
   ]
  },
  {
   "cell_type": "code",
   "execution_count": null,
   "metadata": {
    "collapsed": false
   },
   "outputs": [],
   "source": [
    "insp.plot.waveform_im(vmin=0, vmax=7e6)"
   ]
  },
  {
   "cell_type": "code",
   "execution_count": null,
   "metadata": {
    "collapsed": false
   },
   "outputs": [],
   "source": [
    "insp.plot.waveform_hist(vmin=0, vmax=1e7, log=True)"
   ]
  },
  {
   "cell_type": "code",
   "execution_count": null,
   "metadata": {
    "collapsed": false
   },
   "outputs": [],
   "source": [
    "insp.plot.waveform_line(ind=500)"
   ]
  },
  {
   "cell_type": "code",
   "execution_count": null,
   "metadata": {
    "collapsed": false
   },
   "outputs": [],
   "source": [
    "insp.plot.waveform_line()"
   ]
  },
  {
   "cell_type": "code",
   "execution_count": null,
   "metadata": {
    "collapsed": false
   },
   "outputs": [],
   "source": [
    "insp.plot.waveform_line(ref_ind=520)"
   ]
  },
  {
   "cell_type": "code",
   "execution_count": null,
   "metadata": {
    "collapsed": false
   },
   "outputs": [],
   "source": [
    "insp.plot.waveform_3d_surf()"
   ]
  },
  {
   "cell_type": "code",
   "execution_count": null,
   "metadata": {
    "collapsed": false
   },
   "outputs": [],
   "source": [
    "insp.plot.line()"
   ]
  },
  {
   "cell_type": "code",
   "execution_count": null,
   "metadata": {
    "collapsed": false
   },
   "outputs": [],
   "source": [
    "insp.plot.line(x='lon_l1b_echo_sar_ku', y='lat_l1b_echo_sar_ku')"
   ]
  },
  {
   "cell_type": "code",
   "execution_count": null,
   "metadata": {
    "collapsed": false
   },
   "outputs": [],
   "source": [
    "insp.plot.im()"
   ]
  },
  {
   "cell_type": "code",
   "execution_count": null,
   "metadata": {
    "collapsed": false
   },
   "outputs": [],
   "source": [
    "insp.plot.im_line()"
   ]
  },
  {
   "cell_type": "code",
   "execution_count": null,
   "metadata": {
    "collapsed": false
   },
   "outputs": [],
   "source": [
    "insp.dim_names"
   ]
  },
  {
   "cell_type": "code",
   "execution_count": null,
   "metadata": {
    "collapsed": false
   },
   "outputs": [],
   "source": [
    "insp.var_names"
   ]
  },
  {
   "cell_type": "code",
   "execution_count": null,
   "metadata": {
    "collapsed": false
   },
   "outputs": [],
   "source": [
    "insp.dim_name_to_size"
   ]
  },
  {
   "cell_type": "code",
   "execution_count": null,
   "metadata": {
    "collapsed": false
   },
   "outputs": [],
   "source": [
    "insp.dim_names_to_var_names"
   ]
  },
  {
   "cell_type": "code",
   "execution_count": null,
   "metadata": {
    "collapsed": false
   },
   "outputs": [],
   "source": [
    "var = insp.dataset['i2q2_meas_ku_l1b_echo_sar_ku']"
   ]
  },
  {
   "cell_type": "code",
   "execution_count": null,
   "metadata": {
    "collapsed": false
   },
   "outputs": [],
   "source": [
    "var.name, var.dtype, var.dimensions, var.shape"
   ]
  },
  {
   "cell_type": "code",
   "execution_count": null,
   "metadata": {
    "collapsed": false
   },
   "outputs": [],
   "source": [
    "insp.dataset"
   ]
  },
  {
   "cell_type": "code",
   "execution_count": null,
   "metadata": {
    "collapsed": true
   },
   "outputs": [],
   "source": []
  }
 ],
 "metadata": {
  "kernelspec": {
   "display_name": "Python 3",
   "language": "python",
   "name": "python3"
  },
  "language_info": {
   "codemirror_mode": {
    "name": "ipython",
    "version": 3
   },
   "file_extension": ".py",
   "mimetype": "text/x-python",
   "name": "python",
   "nbconvert_exporter": "python",
   "pygments_lexer": "ipython3",
   "version": "3.5.2"
  }
 },
 "nbformat": 4,
 "nbformat_minor": 0
}
