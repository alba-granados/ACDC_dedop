{
 "cells": [
  {
   "cell_type": "markdown",
   "metadata": {},
   "source": [
    "# DeDop L1B Comparison\n",
    "\n",
    "Use the following plot methods for displaying scaled waveform data:\n",
    "* `comp.plot.waveforms_delta_im()` - to draw the waveforms difference image\n",
    "* `comp.plot.waveforms_scatter()` - to draw the waveforms scatter plot\n",
    "* `comp.p1/p2.plot.waveform_line()` - to draw a simple waveform line plot\n",
    "* `comp.p1/p2.plot.waveform_im()` - to draw a waveform image\n",
    "* `comp.p1/p2.plot.waveform_hist()` to draw a waveform histogram\n",
    "* `comp.plot.locations()` - to draw the footprints of the two L1B products on a map\n",
    "\n",
    "Use the following generic methods for displaying any other variables:\n",
    "* `comp.p1/p2.plot.line(x, y)` - to draw two 1D variables (line plots)\n",
    "* `comp.p1/p2.plot.im_line(z)` - to draw a 2D variable (images + and line plots)\n",
    "* `comp.p1/p2.plot.im(z)` - to draw a 2D variable (images)\n",
    "\n",
    "Usage hints:\n",
    "* In menu **Cell** select **Run All** to run all notebook *cells*\n",
    "* Place cursor over a any field or function in a cell and press **SHIFT** + **TAB** to display help on\n",
    "  that element.\n",
    "* Type `comp.` or `comp.plot.` then press **TAB** key to get a list of available\n",
    "  elements of the `comp` and `comp.plot` objects for auto-completion.\n",
    "* Some functions have a `color` argument. Please refer to the \n",
    "  [Matplotlib Colors API](http://matplotlib.org/api/colors_api.html) to learn how colors can be specified.\n",
    "* Some functions have a `cmap` argument, which names a colour map. Please refer to the\n",
    "  [Matplotlib Colormaps Reference](http://matplotlib.org/examples/color/colormaps_reference.html) \n",
    "  for possible names.\n"
   ]
  },
  {
   "cell_type": "code",
   "execution_count": 1,
   "metadata": {
    "collapsed": false
   },
   "outputs": [],
   "source": [
    "from dedop.ui.compare import compare_l1b_products\n",
    "%matplotlib inline"
   ]
  },
  {
   "cell_type": "code",
   "execution_count": null,
   "metadata": {
    "collapsed": false
   },
   "outputs": [],
   "source": [
    "comp = compare_l1b_products(__L1B_FILE_PATH_1__,\n",
    "                            __L1B_FILE_PATH_2__)"
   ]
  },
  {
   "cell_type": "code",
   "execution_count": null,
   "metadata": {
    "collapsed": false
   },
   "outputs": [],
   "source": [
    "comp.plot.locations()"
   ]
  },
  {
   "cell_type": "code",
   "execution_count": null,
   "metadata": {
    "collapsed": false
   },
   "outputs": [],
   "source": [
    "comp.plot.waveforms_delta_im()"
   ]
  },
  {
   "cell_type": "code",
   "execution_count": null,
   "metadata": {
    "collapsed": false
   },
   "outputs": [],
   "source": [
    "comp.plot.waveforms_hist()"
   ]
  },
  {
   "cell_type": "code",
   "execution_count": null,
   "metadata": {
    "collapsed": false
   },
   "outputs": [],
   "source": [
    "comp.plot.waveforms_delta_hist()"
   ]
  },
  {
   "cell_type": "code",
   "execution_count": null,
   "metadata": {
    "collapsed": false
   },
   "outputs": [],
   "source": [
    "comp.plot.waveforms_hexbin()"
   ]
  },
  {
   "cell_type": "code",
   "execution_count": null,
   "metadata": {
    "collapsed": false
   },
   "outputs": [],
   "source": [
    "comp.plot.waveforms_scatter()"
   ]
  },
  {
   "cell_type": "code",
   "execution_count": null,
   "metadata": {
    "collapsed": false
   },
   "outputs": [],
   "source": [
    "comp.waveforms"
   ]
  },
  {
   "cell_type": "code",
   "execution_count": null,
   "metadata": {
    "collapsed": false
   },
   "outputs": [],
   "source": [
    "comp.waveforms_delta"
   ]
  },
  {
   "cell_type": "code",
   "execution_count": null,
   "metadata": {
    "collapsed": false
   },
   "outputs": [],
   "source": [
    "comp.waveforms_delta_range"
   ]
  },
  {
   "cell_type": "markdown",
   "metadata": {},
   "source": [
    "## Basic outlier detection in ``waveforms_delta`` using numpy\n",
    "\n",
    "The following code is an example of how this Notebook may be used to do some basic statstics with \n",
    "[numpy](http://www.numpy.org/) or [scipy](https://www.scipy.org).\n",
    "\n",
    "Here, we define probability bands whose widths are *2k* times the standard deviation centered on the mean (of a normal distribution) of ``waveforms_delta``. By doing this, any data points from the N samples that lie outside this probability band are considered to be outliers."
   ]
  },
  {
   "cell_type": "code",
   "execution_count": null,
   "metadata": {
    "collapsed": false
   },
   "outputs": [],
   "source": [
    "import numpy as np\n",
    "\n",
    "x = comp.waveforms_delta\n",
    "x_min, x_max = comp.waveforms_delta_range\n",
    "\n",
    "mean = x.mean()\n",
    "std = x.std()\n",
    "\n",
    "k_max = (x_max - x_min) / std if std else 1\n",
    "\n",
    "print()\n",
    "print('mean =', mean, ' std =', std, '  k_max = ', k_max)\n",
    "print()\n",
    "\n",
    "for k in [1., 2., 3., 4., 5.]:\n",
    "    num_outliers = np.logical_or(x < mean - k * std, x > mean + k * std).sum()\n",
    "    num_within = x.size - num_outliers\n",
    "    ratio_outliers = num_outliers / x.size\n",
    "    ratio_within = 1.0 - ratio_outliers \n",
    "\n",
    "    print('k =', k, ':')\n",
    "    print('  num_within =', num_within, ' ratio_within =', 100 * ratio_within, '%')\n",
    "    print('  num_outliers =', num_outliers, ' ratio_outliers =', 100 * ratio_outliers, '%')\n"
   ]
  },
  {
   "cell_type": "code",
   "execution_count": null,
   "metadata": {
    "collapsed": false
   },
   "outputs": [],
   "source": [
    "(x < x_min + 1e7).sum()"
   ]
  },
  {
   "cell_type": "code",
   "execution_count": null,
   "metadata": {
    "collapsed": false
   },
   "outputs": [],
   "source": [
    "(x > x_max - 1e7).sum()"
   ]
  },
  {
   "cell_type": "code",
   "execution_count": null,
   "metadata": {
    "collapsed": true
   },
   "outputs": [],
   "source": []
  }
 ],
 "metadata": {
  "kernelspec": {
   "display_name": "Python 3",
   "language": "python",
   "name": "python3"
  },
  "language_info": {
   "codemirror_mode": {
    "name": "ipython",
    "version": 3
   },
   "file_extension": ".py",
   "mimetype": "text/x-python",
   "name": "python",
   "nbconvert_exporter": "python",
   "pygments_lexer": "ipython3",
   "version": "3.5.2"
  }
 },
 "nbformat": 4,
 "nbformat_minor": 0
}
